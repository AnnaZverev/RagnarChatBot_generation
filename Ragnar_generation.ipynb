{
  "cells": [
    {
      "cell_type": "markdown",
      "metadata": {
        "id": "uahhgYgxF7LW"
      },
      "source": [
        "##Создание датасета"
      ]
    },
    {
      "cell_type": "markdown",
      "metadata": {
        "id": "WI3oK3wJGDsO"
      },
      "source": [
        "Создадим свой собственный датасет на основании датасета с репликами всех персонажей и всех сезонов сериала \"Викинги\". Датасет взят с каггла: https://www.kaggle.com/datasets/zusmani/vikings-all-seasons-complete-script/code\n",
        "\n",
        "Выбранный мною персонаж - Рагнар\n",
        "\n",
        "Для создания нужного мне датасета я предприму следующие шаги:\n",
        "1. Объединю все txt файлы (сейчас они разбиты по 101 серии) в один txt файл merged_vikings\n",
        "2. Затем на основании этого txt файла сделаю обработку, которая будет класть в csv файл в колонку context реплику, предшествующую реплике Рагнара, а в answer - соответствующую реплику Рагнара. Сохраню csv файл для дальнейшего обучения модели"
      ]
    },
    {
      "cell_type": "code",
      "execution_count": null,
      "metadata": {
        "colab": {
          "base_uri": "https://localhost:8080/"
        },
        "id": "oW3Ojsy9F-vh",
        "outputId": "cdd8c9cd-be25-4fc1-f842-600899f733ae"
      },
      "outputs": [
        {
          "name": "stdout",
          "output_type": "stream",
          "text": [
            "Все файлы успешно объединены в один файл 'merged_vikings.txt'\n"
          ]
        }
      ],
      "source": [
        "# Создаем пустой список для хранения содержимого всех файлов\n",
        "all_content = []\n",
        "\n",
        "# Цикл для чтения каждого файла и добавления его содержимого в список\n",
        "for i in range(1, 102):  # 101 серия\n",
        "    filename = f\"vikings ({i}).txt\"\n",
        "    with open(filename, 'r', encoding='ISO-8859-1') as file:  # Указываем кодировку ISO-8859-1\n",
        "        content = file.read()\n",
        "        all_content.append(content)\n",
        "\n",
        "# Объединяем содержимое всех файлов в одну строку\n",
        "merged_content = '\\n'.join(all_content)\n",
        "\n",
        "# Записываем объединенное содержимое в новый файл\n",
        "with open('merged_vikings.txt', 'w') as merged_file:  # Изменим имя нового файла\n",
        "    merged_file.write(merged_content)\n",
        "\n",
        "print(\"Все файлы успешно объединены в один файл 'merged_vikings.txt'\")\n"
      ]
    },
    {
      "cell_type": "code",
      "source": [
        "import csv\n",
        "import pandas as pd\n",
        "\n",
        "with open('merged_vikings.txt', 'r') as file:\n",
        "    lines = file.readlines()\n",
        "\n",
        "# Инициализируем пустые списки для хранения контекста и ответов\n",
        "contexts = []\n",
        "answers = []\n",
        "\n",
        "# Проходим по строкам файла\n",
        "for i, line in enumerate(lines):\n",
        "    # Проверяем, начинается ли строка с 'Ragnar:'\n",
        "    if line.startswith('Ragnar:'):\n",
        "        # Добавляем фразу Рагнара в ответы\n",
        "        answers.append(line.strip())\n",
        "        # Добавляем предыдущую строку в контекст (если это возможно)\n",
        "        if i > 0:\n",
        "            contexts.append(lines[i-1].strip())\n",
        "\n",
        "# Создаем DataFrame с двумя колонками\n",
        "df = pd.DataFrame({'context': contexts, 'answer': answers})\n",
        "\n",
        "# Записываем DataFrame в CSV файл\n",
        "df.to_csv('ragnar_3_csv.csv', index=False)\n",
        "\n",
        "print(\"CSV файл успешно создан!\")"
      ],
      "metadata": {
        "id": "_X5sC90FF5rq"
      },
      "execution_count": null,
      "outputs": []
    },
    {
      "cell_type": "code",
      "execution_count": 1,
      "metadata": {
        "colab": {
          "base_uri": "https://localhost:8080/"
        },
        "id": "W236AzCfIkn3",
        "outputId": "e6e997e7-3737-4356-ef3c-c6bfde830246"
      },
      "outputs": [
        {
          "output_type": "stream",
          "name": "stdout",
          "text": [
            "                                            context  \\\n",
            "0  Rollo: We have no chance at defeating Jarl Borg.   \n",
            "1                 (low hum of chatter, goats bleat)   \n",
            "2                   Floki: I will do it! I will go.   \n",
            "3                        (splashing through stream)   \n",
            "4                Guard 2: It's been long in coming.   \n",
            "\n",
            "                                              answer  \n",
            "0                     Ragnar: Then we find more men.  \n",
            "1  Ragnar: Enough with the pleasantries, let's ma...  \n",
            "2                 Ragnar: No. My son and I shall go.  \n",
            "3  Ragnar: Olrik, Erik, sneak through the water t...  \n",
            "4                          Ragnar: Don't fear death.  \n"
          ]
        }
      ],
      "source": [
        "import csv\n",
        "import pandas as pd\n",
        "\n",
        "#Загрузка данных\n",
        "df = pd.read_csv('ragnar_3_csv.csv')\n",
        "\n",
        "# Проверка загруженных данных\n",
        "print(df.head())"
      ]
    },
    {
      "cell_type": "code",
      "execution_count": null,
      "metadata": {
        "colab": {
          "base_uri": "https://localhost:8080/"
        },
        "id": "qLjMJMlcIprD",
        "outputId": "0768e709-bd80-4755-e0cd-e6a2ecd9b69a"
      },
      "outputs": [
        {
          "name": "stdout",
          "output_type": "stream",
          "text": [
            "<class 'pandas.core.frame.DataFrame'>\n",
            "RangeIndex: 286 entries, 0 to 285\n",
            "Data columns (total 2 columns):\n",
            " #   Column   Non-Null Count  Dtype \n",
            "---  ------   --------------  ----- \n",
            " 0   context  286 non-null    object\n",
            " 1   answer   286 non-null    object\n",
            "dtypes: object(2)\n",
            "memory usage: 4.6+ KB\n"
          ]
        }
      ],
      "source": [
        "df.info()"
      ]
    },
    {
      "cell_type": "markdown",
      "source": [
        "# Генеративная модель"
      ],
      "metadata": {
        "id": "yHbacuxD5Jms"
      }
    },
    {
      "cell_type": "markdown",
      "source": [
        "### Шаг 1: Подготовка окружения"
      ],
      "metadata": {
        "id": "FR8j9BanM-yp"
      }
    },
    {
      "cell_type": "code",
      "source": [
        "pip install torch transformers"
      ],
      "metadata": {
        "colab": {
          "base_uri": "https://localhost:8080/"
        },
        "id": "4qrg52cL5M5j",
        "outputId": "5afd4e82-641a-46a1-b081-07561479d022"
      },
      "execution_count": null,
      "outputs": [
        {
          "output_type": "stream",
          "name": "stdout",
          "text": [
            "Requirement already satisfied: torch in /usr/local/lib/python3.10/dist-packages (2.1.0+cu121)\n",
            "Requirement already satisfied: transformers in /usr/local/lib/python3.10/dist-packages (4.38.1)\n",
            "Requirement already satisfied: filelock in /usr/local/lib/python3.10/dist-packages (from torch) (3.13.1)\n",
            "Requirement already satisfied: typing-extensions in /usr/local/lib/python3.10/dist-packages (from torch) (4.10.0)\n",
            "Requirement already satisfied: sympy in /usr/local/lib/python3.10/dist-packages (from torch) (1.12)\n",
            "Requirement already satisfied: networkx in /usr/local/lib/python3.10/dist-packages (from torch) (3.2.1)\n",
            "Requirement already satisfied: jinja2 in /usr/local/lib/python3.10/dist-packages (from torch) (3.1.3)\n",
            "Requirement already satisfied: fsspec in /usr/local/lib/python3.10/dist-packages (from torch) (2023.6.0)\n",
            "Requirement already satisfied: triton==2.1.0 in /usr/local/lib/python3.10/dist-packages (from torch) (2.1.0)\n",
            "Requirement already satisfied: huggingface-hub<1.0,>=0.19.3 in /usr/local/lib/python3.10/dist-packages (from transformers) (0.20.3)\n",
            "Requirement already satisfied: numpy>=1.17 in /usr/local/lib/python3.10/dist-packages (from transformers) (1.25.2)\n",
            "Requirement already satisfied: packaging>=20.0 in /usr/local/lib/python3.10/dist-packages (from transformers) (23.2)\n",
            "Requirement already satisfied: pyyaml>=5.1 in /usr/local/lib/python3.10/dist-packages (from transformers) (6.0.1)\n",
            "Requirement already satisfied: regex!=2019.12.17 in /usr/local/lib/python3.10/dist-packages (from transformers) (2023.12.25)\n",
            "Requirement already satisfied: requests in /usr/local/lib/python3.10/dist-packages (from transformers) (2.31.0)\n",
            "Requirement already satisfied: tokenizers<0.19,>=0.14 in /usr/local/lib/python3.10/dist-packages (from transformers) (0.15.2)\n",
            "Requirement already satisfied: safetensors>=0.4.1 in /usr/local/lib/python3.10/dist-packages (from transformers) (0.4.2)\n",
            "Requirement already satisfied: tqdm>=4.27 in /usr/local/lib/python3.10/dist-packages (from transformers) (4.66.2)\n",
            "Requirement already satisfied: MarkupSafe>=2.0 in /usr/local/lib/python3.10/dist-packages (from jinja2->torch) (2.1.5)\n",
            "Requirement already satisfied: charset-normalizer<4,>=2 in /usr/local/lib/python3.10/dist-packages (from requests->transformers) (3.3.2)\n",
            "Requirement already satisfied: idna<4,>=2.5 in /usr/local/lib/python3.10/dist-packages (from requests->transformers) (3.6)\n",
            "Requirement already satisfied: urllib3<3,>=1.21.1 in /usr/local/lib/python3.10/dist-packages (from requests->transformers) (2.0.7)\n",
            "Requirement already satisfied: certifi>=2017.4.17 in /usr/local/lib/python3.10/dist-packages (from requests->transformers) (2024.2.2)\n",
            "Requirement already satisfied: mpmath>=0.19 in /usr/local/lib/python3.10/dist-packages (from sympy->torch) (1.3.0)\n"
          ]
        }
      ]
    },
    {
      "cell_type": "markdown",
      "source": [
        "### Шаг 2: Загрузка и дообучение модели"
      ],
      "metadata": {
        "id": "an_jfTi9NCrJ"
      }
    },
    {
      "cell_type": "code",
      "source": [
        "import pandas as pd\n",
        "from sklearn.model_selection import train_test_split\n",
        "\n",
        "df['label'] = 1  # Все пары контекст-ответ релевантны\n",
        "\n",
        "# Разделение данных на обучающую и тестовую выборки\n",
        "train_df, val_df = train_test_split(df, test_size=0.1)  # Здесь мы используем 10% данных для валидации"
      ],
      "metadata": {
        "id": "j0qHvYTFQMGQ"
      },
      "execution_count": null,
      "outputs": []
    },
    {
      "cell_type": "code",
      "source": [
        "import pandas as pd\n",
        "import matplotlib.pyplot as plt\n",
        "from sklearn.model_selection import train_test_split\n",
        "from transformers import GPT2LMHeadModel, GPT2Tokenizer, AdamW, get_linear_schedule_with_warmup\n",
        "import torch\n",
        "from torch.utils.data import Dataset, DataLoader\n",
        "\n",
        "# df = pd.read_csv('ragnar_3_csv.csv')\n",
        "\n",
        "# Создание датасета для валидации\n",
        "class CharacterDataset(Dataset):\n",
        "    def __init__(self, dataframe, tokenizer, max_length):\n",
        "        self.tokenizer = tokenizer\n",
        "        self.data = dataframe\n",
        "        self.max_length = max_length\n",
        "\n",
        "    def __len__(self):\n",
        "        return len(self.data)\n",
        "\n",
        "    def __getitem__(self, index):\n",
        "        message = str(self.data.iloc[index, 0])\n",
        "        response = str(self.data.iloc[index, 1])\n",
        "        input_text = message + \" \" + response\n",
        "        inputs = self.tokenizer.encode_plus(\n",
        "            input_text,\n",
        "            None,\n",
        "            add_special_tokens=True,\n",
        "            max_length=self.max_length,\n",
        "            padding='max_length',\n",
        "            return_token_type_ids=True,\n",
        "            truncation=True\n",
        "        )\n",
        "        return {\n",
        "            'input_ids': torch.tensor(inputs['input_ids'], dtype=torch.long),\n",
        "            'attention_mask': torch.tensor(inputs['attention_mask'], dtype=torch.long),\n",
        "            'token_type_ids': torch.tensor(inputs['token_type_ids'], dtype=torch.long)\n",
        "        }\n",
        "\n",
        "tokenizer = GPT2Tokenizer.from_pretrained('gpt2')\n",
        "tokenizer.pad_token = tokenizer.eos_token\n",
        "model = GPT2LMHeadModel.from_pretrained('gpt2')\n",
        "\n",
        "train_df, val_df = train_test_split(df, test_size=0.1)  # Разделение данных\n",
        "\n",
        "train_dataset = CharacterDataset(train_df, tokenizer, max_length=512)\n",
        "val_dataset = CharacterDataset(val_df, tokenizer, max_length=512)\n",
        "\n",
        "train_loader = DataLoader(train_dataset, batch_size=2, shuffle=True)\n",
        "val_loader = DataLoader(val_dataset, batch_size=2)\n",
        "\n",
        "device = torch.device(\"cuda\" if torch.cuda.is_available() else \"cpu\")\n",
        "model.to(device)\n",
        "optimizer = AdamW(model.parameters(), lr=1e-5)\n",
        "scheduler = get_linear_schedule_with_warmup(optimizer, num_warmup_steps=0, num_training_steps=len(train_loader))\n",
        "\n",
        "train_loss_values = []\n",
        "val_loss_values = []\n",
        "\n",
        "model.train()\n",
        "for epoch in range(3):  # 3 эпохи\n",
        "    total_train_loss = 0\n",
        "    for batch in train_loader:\n",
        "        optimizer.zero_grad()\n",
        "        input_ids = batch['input_ids'].to(device)\n",
        "        attention_mask = batch['attention_mask'].to(device)\n",
        "        token_type_ids = batch['token_type_ids'].to(device)\n",
        "        outputs = model(input_ids, attention_mask=attention_mask, token_type_ids=token_type_ids, labels=input_ids)\n",
        "        loss = outputs.loss\n",
        "        loss.backward()\n",
        "        optimizer.step()\n",
        "        scheduler.step()\n",
        "\n",
        "        total_train_loss += loss.item()\n",
        "\n",
        "    avg_train_loss = total_train_loss / len(train_loader)\n",
        "    train_loss_values.append(avg_train_loss)\n",
        "\n",
        "    # Валидация\n",
        "    model.eval()\n",
        "    total_val_loss = 0\n",
        "    with torch.no_grad():\n",
        "        for batch in val_loader:\n",
        "            input_ids = batch['input_ids'].to(device)\n",
        "            attention_mask = batch['attention_mask'].to(device)\n",
        "            token_type_ids = batch['token_type_ids'].to(device)\n",
        "            outputs = model(input_ids, attention_mask=attention_mask, token_type_ids=token_type_ids, labels=input_ids)\n",
        "            loss = outputs.loss\n",
        "            total_val_loss += loss.item()\n",
        "\n",
        "    avg_val_loss = total_val_loss / len(val_loader)\n",
        "    val_loss_values.append(avg_val_loss)\n",
        "\n",
        "    print(f\"Epoch {epoch + 1} | Train Loss: {avg_train_loss} | Validation Loss: {avg_val_loss}\")\n",
        "\n",
        "    model.train()  # Возвращение в режим обучения для следующей эпохи\n",
        "\n",
        "# Визуализация\n",
        "plt.plot(train_loss_values, label='Train Loss')\n",
        "plt.plot(val_loss_values, label='Validation Loss')\n",
        "plt.title('Training and Validation Loss')\n",
        "plt.xlabel('Epoch')\n",
        "plt.ylabel('Loss')\n",
        "plt.legend()\n",
        "plt.show()"
      ],
      "metadata": {
        "colab": {
          "base_uri": "https://localhost:8080/",
          "height": 581
        },
        "id": "9vZnoHQQQzQo",
        "outputId": "55ed243a-7c7f-4617-8e49-5c176eb0b76b"
      },
      "execution_count": 14,
      "outputs": [
        {
          "output_type": "stream",
          "name": "stderr",
          "text": [
            "/usr/local/lib/python3.10/dist-packages/transformers/optimization.py:429: FutureWarning: This implementation of AdamW is deprecated and will be removed in a future version. Use the PyTorch implementation torch.optim.AdamW instead, or set `no_deprecation_warning=True` to disable this warning\n",
            "  warnings.warn(\n"
          ]
        },
        {
          "output_type": "stream",
          "name": "stdout",
          "text": [
            "Epoch 1 | Train Loss: 0.44339944272078285 | Validation Loss: 0.22757795254389446\n",
            "Epoch 2 | Train Loss: 0.25232646106056467 | Validation Loss: 0.22757795254389446\n",
            "Epoch 3 | Train Loss: 0.2525499853514886 | Validation Loss: 0.22757795254389446\n"
          ]
        },
        {
          "output_type": "display_data",
          "data": {
            "text/plain": [
              "<Figure size 640x480 with 1 Axes>"
            ],
            "image/png": "[encoded data removed]"
          },
          "metadata": {}
        }
      ]
    },
    {
      "cell_type": "markdown",
      "source": [
        "\n",
        "### Шаг 3: Использование модели для генерации ответов"
      ],
      "metadata": {
        "id": "802YInADNFwQ"
      }
    },
    {
      "cell_type": "code",
      "source": [
        "def generate_response(question, model, tokenizer, device):\n",
        "    model.eval()  # Переключаем модель в режим оценки\n",
        "    input_ids = tokenizer.encode(question, return_tensors=\"pt\").to(device)\n",
        "\n",
        "    # Генерация ответа с заданными параметрами\n",
        "    output_sequences = model.generate(\n",
        "        input_ids=input_ids,\n",
        "        max_length=50,  # Максимальная длина сгенерированного ответа\n",
        "        temperature=0.9,  # Температура генерации для управления случайностью\n",
        "        top_k=50,  # Лимит для top-k sampling\n",
        "        top_p=0.95,  # Лимит для nucleus sampling, позволяет генерировать более разнообразный ответ\n",
        "        num_return_sequences=1,  # Количество возвращаемых последовательностей (ответов)\n",
        "        pad_token_id=tokenizer.eos_token_id,  # ID токена конца строки для завершения генерации\n",
        "        no_repeat_ngram_size=2  # Предотвращение повторения n-грамм в ответе\n",
        "    )\n",
        "\n",
        "    # Декодирование сгенерированного ответа в строку\n",
        "    generated_text = tokenizer.decode(output_sequences[0], skip_special_tokens=True)\n",
        "\n",
        "    return generated_text\n",
        "\n",
        "# Пример использования функции для генерации ответа\n",
        "question = \"How are you?\"  # Вопрос к Рагнару\n",
        "response = generate_response(question, model, tokenizer, device)\n",
        "print(f\"Generated response: {response}\")\n"
      ],
      "metadata": {
        "colab": {
          "base_uri": "https://localhost:8080/"
        },
        "id": "Mo6c0RmcMwK6",
        "outputId": "c56d985f-7aba-431d-aeb9-7b698ab3e2ef"
      },
      "execution_count": 8,
      "outputs": [
        {
          "output_type": "stream",
          "name": "stdout",
          "text": [
            "Generated response: How are you?\n",
            "\n",
            "I'm a big fan of the game. I love the way it's played. It's a great game, and I'm excited to see what the next generation of games will bring to the table.\n"
          ]
        }
      ]
    },
    {
      "cell_type": "code",
      "source": [
        "from google.colab import drive\n",
        "drive.mount('/content/drive')"
      ],
      "metadata": {
        "colab": {
          "base_uri": "https://localhost:8080/"
        },
        "id": "nVPamCwGPzO2",
        "outputId": "1a5740e1-6789-4fa8-b8c0-6866e5976ba3"
      },
      "execution_count": 11,
      "outputs": [
        {
          "output_type": "stream",
          "name": "stdout",
          "text": [
            "Mounted at /content/drive\n"
          ]
        }
      ]
    },
    {
      "cell_type": "code",
      "source": [
        "model.save_pretrained('/content/drive/MyDrive/model_ragnar_2')"
      ],
      "metadata": {
        "id": "ADILnAQVQJlM"
      },
      "execution_count": 13,
      "outputs": []
    },
    {
      "cell_type": "code",
      "source": [
        "tokenizer.save_pretrained('/content/drive/MyDrive/tokenizer_ragnar2')"
      ],
      "metadata": {
        "colab": {
          "base_uri": "https://localhost:8080/"
        },
        "id": "YMCNAiZFQUZE",
        "outputId": "59022d56-3bb2-40b2-d909-e3846291cbd1"
      },
      "execution_count": 15,
      "outputs": [
        {
          "output_type": "execute_result",
          "data": {
            "text/plain": [
              "('/content/drive/MyDrive/tokenizer_ragnar2/tokenizer_config.json',\n",
              " '/content/drive/MyDrive/tokenizer_ragnar2/special_tokens_map.json',\n",
              " '/content/drive/MyDrive/tokenizer_ragnar2/vocab.json',\n",
              " '/content/drive/MyDrive/tokenizer_ragnar2/merges.txt',\n",
              " '/content/drive/MyDrive/tokenizer_ragnar2/added_tokens.json')"
            ]
          },
          "metadata": {},
          "execution_count": 15
        }
      ]
    },
    {
      "cell_type": "markdown",
      "source": [
        "#Вариант обучения с ускорением"
      ],
      "metadata": {
        "id": "KzIgfafokHn5"
      }
    },
    {
      "cell_type": "markdown",
      "source": [
        "Для ускорения моего кода я внесу несколько изменений, включая использование autocast для выполнения операций модели в полупрецизионном режиме и GradScaler для корректировки градиентов для предотвращения проблем с потерей точности при использовании полупрецизионных вычислений."
      ],
      "metadata": {
        "id": "xoee70lzkXZy"
      }
    },
    {
      "cell_type": "code",
      "source": [
        "from sklearn.model_selection import train_test_split\n",
        "\n",
        "train_df, val_df = train_test_split(df, test_size=0.1)  # Используем 10% данных для валидации\n",
        "\n",
        "train_dataset = CharacterDataset(train_df, tokenizer, max_length=512)\n",
        "val_dataset = CharacterDataset(val_df, tokenizer, max_length=512)\n",
        "\n",
        "train_loader = DataLoader(train_dataset, batch_size=2, shuffle=True, num_workers=4)\n",
        "val_loader = DataLoader(val_dataset, batch_size=2, num_workers=4)\n",
        "\n",
        "val_loss_values = []  # Для сохранения потерь на валидационной выборке\n",
        "\n",
        "for epoch in range(3):\n",
        "    total_loss = 0\n",
        "    for batch in loader:\n",
        "        optimizer.zero_grad()\n",
        "\n",
        "        # Включение контекста смешанной точности\n",
        "        with autocast():\n",
        "            input_ids = batch['input_ids'].to(device)\n",
        "            attention_mask = batch['attention_mask'].to(device)\n",
        "            token_type_ids = batch['token_type_ids'].to(device)\n",
        "            outputs = model(input_ids, attention_mask=attention_mask, token_type_ids=token_type_ids, labels=input_ids)\n",
        "            loss = outputs.loss\n",
        "\n",
        "        # Масштабирование потерь для смешанной точности\n",
        "        scaler.scale(loss).backward()\n",
        "        scaler.step(optimizer)\n",
        "        scaler.update()\n",
        "        scheduler.step()\n",
        "\n",
        "        total_loss += loss.item()\n",
        "\n",
        "    epoch_loss = total_loss / len(loader)\n",
        "    loss_values.append(epoch_loss)\n",
        "    print(f\"Epoch {epoch + 1} | Train Loss: {epoch_loss}\")\n",
        "\n",
        "    # Валидация\n",
        "    model.eval()  # Переключение модели в режим валидации\n",
        "    total_val_loss = 0\n",
        "    with torch.no_grad():  # Отключение вычисления градиентов\n",
        "        for batch in val_loader:\n",
        "            input_ids = batch['input_ids'].to(device)\n",
        "            attention_mask = batch['attention_mask'].to(device)\n",
        "            token_type_ids = batch['token_type_ids'].to(device)\n",
        "            outputs = model(input_ids, attention_mask=attention_mask, token_type_ids=token_type_ids, labels=input_ids)\n",
        "            loss = outputs.loss\n",
        "            total_val_loss += loss.item()\n",
        "\n",
        "    avg_val_loss = total_val_loss / len(val_loader)\n",
        "    val_loss_values.append(avg_val_loss)\n",
        "    print(f\"Epoch {epoch + 1} | Validation Loss: {avg_val_loss}\")\n",
        "\n",
        "    model.train()  # Возвращение в режим обучения\n",
        "\n",
        "plt.plot(loss_values, label='Training Loss')\n",
        "plt.plot(val_loss_values, label='Validation Loss')\n",
        "plt.title('Training and Validation Loss')\n",
        "plt.xlabel('Epochs')\n",
        "plt.ylabel('Loss')\n",
        "plt.legend()\n",
        "plt.show()\n"
      ],
      "metadata": {
        "colab": {
          "base_uri": "https://localhost:8080/",
          "height": 579
        },
        "id": "RxV77IfZS00R",
        "outputId": "0104d59d-2759-47a7-ee6f-5ed5bb8350a6"
      },
      "execution_count": 15,
      "outputs": [
        {
          "output_type": "stream",
          "name": "stdout",
          "text": [
            "Epoch 1 | Train Loss: 0.25314878307647637\n",
            "Epoch 1 | Validation Loss: 0.21864990293979644\n",
            "Epoch 2 | Train Loss: 0.25272436413940014\n",
            "Epoch 2 | Validation Loss: 0.21864990293979644\n",
            "Epoch 3 | Train Loss: 0.2538715204471475\n",
            "Epoch 3 | Validation Loss: 0.21864990293979644\n"
          ]
        },
        {
          "output_type": "display_data",
          "data": {
            "text/plain": [
              "<Figure size 640x480 with 1 Axes>"
            ],
            "image/png": "[encoded data removed]"
          },
          "metadata": {}
        }
      ]
    },
    {
      "cell_type": "markdown",
      "source": [
        "- Импорт `autocast` и `GradScaler`: Необходимы для использования mixed precision.\n",
        "- Инициализация `GradScaler`: Для масштабирования градиентов и предотвращения проблем с точностью.\n",
        "- Использование `with autocast()`: Автоматически выбирает полупрецизионное выполнение, где это возможно, ускоряя вычисления и уменьшая потребление памяти.\n",
        "- Масштабирование градиентов и обновление оптимизатора с помощью `scaler`: Заменяет стандартный вызов loss.backward() и optimizer.step() для коррекции градиентов, что позволяет использовать полупрецизионные вычисления без потери точности."
      ],
      "metadata": {
        "id": "CslRx2E1klLZ"
      }
    },
    {
      "cell_type": "code",
      "source": [
        "def predict(context, answer, tokenizer, model, device):\n",
        "    # Убедимся, что контекст и ответ являются строками\n",
        "    context = str(context)\n",
        "    answer = str(answer)\n",
        "\n",
        "    model.eval()\n",
        "    inputs = tokenizer.encode_plus(context, answer, return_tensors=\"pt\", max_length=512, padding=True, truncation=True)\n",
        "    input_ids = inputs['input_ids'].to(device)\n",
        "    attention_mask = inputs['attention_mask'].to(device)\n",
        "\n",
        "    with torch.no_grad():\n",
        "        outputs = model(input_ids, attention_mask=attention_mask)\n",
        "        logits = outputs.logits\n",
        "        probabilities = torch.softmax(logits, dim=1)\n",
        "        prediction = torch.argmax(probabilities, dim=1)\n",
        "\n",
        "    return prediction.cpu().numpy(), probabilities.cpu().numpy()"
      ],
      "metadata": {
        "id": "G1HyUzRyi4LS"
      },
      "execution_count": 16,
      "outputs": []
    },
    {
      "cell_type": "code",
      "source": [
        "def generate_response(question, model, tokenizer, device):\n",
        "    model.eval()  # Переключаем модель в режим оценки\n",
        "    input_ids = tokenizer.encode(question, return_tensors=\"pt\").to(device)\n",
        "\n",
        "    # Генерация ответа с заданными параметрами\n",
        "    output_sequences = model.generate(\n",
        "        input_ids=input_ids,\n",
        "        max_length=50,  # Максимальная длина сгенерированного ответа\n",
        "        temperature=0.9,  # Температура генерации для управления случайностью\n",
        "        top_k=50,  # Лимит для top-k sampling\n",
        "        top_p=0.95,  # Лимит для nucleus sampling, позволяет генерировать более разнообразный ответ\n",
        "        num_return_sequences=1,  # Количество возвращаемых последовательностей (ответов)\n",
        "        pad_token_id=tokenizer.eos_token_id,  # ID токена конца строки для завершения генерации\n",
        "        no_repeat_ngram_size=2  # Предотвращение повторения n-грамм в ответе\n",
        "    )\n",
        "\n",
        "    # Декодирование сгенерированного ответа в строку\n",
        "    generated_text = tokenizer.decode(output_sequences[0], skip_special_tokens=True)\n",
        "\n",
        "    return generated_text\n",
        "\n",
        "# Пример использования функции для генерации ответа\n",
        "question = \"How are you?\"  # Вопрос к Рагнару\n",
        "response = generate_response(question, model, tokenizer, device)\n",
        "print(f\"Generated response: {response}\")\n"
      ],
      "metadata": {
        "colab": {
          "base_uri": "https://localhost:8080/"
        },
        "id": "XhOrTOAMQAos",
        "outputId": "b0c93120-0ffb-44fd-c5ec-279bcbd1331e"
      },
      "execution_count": 17,
      "outputs": [
        {
          "output_type": "stream",
          "name": "stderr",
          "text": [
            "/usr/local/lib/python3.10/dist-packages/transformers/generation/configuration_utils.py:410: UserWarning: `do_sample` is set to `False`. However, `temperature` is set to `0.9` -- this flag is only used in sample-based generation modes. You should set `do_sample=True` or unset `temperature`.\n",
            "  warnings.warn(\n",
            "/usr/local/lib/python3.10/dist-packages/transformers/generation/configuration_utils.py:415: UserWarning: `do_sample` is set to `False`. However, `top_p` is set to `0.95` -- this flag is only used in sample-based generation modes. You should set `do_sample=True` or unset `top_p`.\n",
            "  warnings.warn(\n"
          ]
        },
        {
          "output_type": "stream",
          "name": "stdout",
          "text": [
            "Generated response: How are you?\n",
            "\n",
            "I'm a big fan of the game. I've played it for a long time and I'm really excited to see what it can do for the team.\n",
            ".\n"
          ]
        }
      ]
    },
    {
      "cell_type": "markdown",
      "source": [
        "#Вывод\n",
        "\n",
        "Исходя из представленных результатов и внесенных изменений в код, можно сделать следующий общий вывод о работе:\n",
        "\n",
        "Модель демонстрирует хорошие результаты обучения, что подтверждается снижением потерь на тренировочном наборе данных. Это указывает на то, что модель успешно адаптируется к обучающим данным, выявляя и изучая закономерности, необходимые для выполнения поставленной задачи. Внедрение техник ускорения обучения, таких как смешанная точность и оптимизация загрузки данных, позволило улучшить эффективность процесса обучения, сократив время, необходимое для прохода по эпохам, и уменьшить потребление вычислительных ресурсов.\n",
        "\n",
        "Однако стабильность потерь на валидационном наборе данных свидетельствует о том, что для дальнейшего улучшения качества модели и её способности к обобщению требуется более разнообразный и, возможно, более объемный датасет. Это может помочь модели лучше адаптироваться к новым данным и улучшить её обобщающую способность, что критически важно для достижения высокого качества работы в реальных условиях.\n",
        "\n",
        "В свете этого, рекомендуется расширение существующего датасета за счет включения более разнообразных примеров, что позволит модели обучаться на более широком спектре данных и лучше обобщать полученные знания на невиданных ранее примерах. Это может включать сбор данных из различных источников или использование техник аугментации данных для увеличения разнообразия в обучающем наборе.\n",
        "\n",
        "В заключение, результаты работы подтверждают потенциал выбранной модели для решения поставленной задачи и выявляют пути для дальнейшего повышения её эффективности через оптимизацию датасета и процесса обучения."
      ],
      "metadata": {
        "id": "ocH0dnTGRABU"
      }
    }
  ],
  "metadata": {
    "accelerator": "GPU",
    "colab": {
      "gpuType": "V100",
      "machine_shape": "hm",
      "provenance": []
    },
    "kernelspec": {
      "display_name": "Python 3",
      "name": "python3"
    },
    "language_info": {
      "name": "python"
    }
  },
  "nbformat": 4,
  "nbformat_minor": 0
}